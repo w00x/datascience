{
  "nbformat": 4,
  "nbformat_minor": 0,
  "metadata": {
    "colab": {
      "name": "Guia_Machine_learning.ipynb",
      "provenance": [],
      "collapsed_sections": []
    },
    "kernelspec": {
      "name": "python3",
      "display_name": "Python 3"
    }
  },
  "cells": [
    {
      "cell_type": "markdown",
      "metadata": {
        "id": "6nIoqZkrjW6M",
        "colab_type": "text"
      },
      "source": [
        "# Metodología CRISP-DM\n",
        "\n",
        "Se utilizara la metodologia CRISP-DM la cual cuenta con 6 etapas como se muestran en el grafico a cointinuación:\n",
        "\n",
        "![Grafico CRISP-DM](https://data.sngular.com/uploads/Iy7O6TErQ6V7qBhkbI8slqyFLvjukDMx.)\n",
        "\n"
      ]
    },
    {
      "cell_type": "markdown",
      "metadata": {
        "id": "aGKiPtXcOChb",
        "colab_type": "text"
      },
      "source": [
        "# Fase I. Business Understanding.\n",
        "## Definición de necesidades del cliente y comprensión del negocio\n",
        "\n",
        "Esta fase inicial se enfoca en la comprensión de los objetivos de proyecto. Después se convierte este conocimiento de los datos en la definición de un problema de minería de datos y en un plan preliminar diseñado para alcanzar los objetivos.\n",
        "\n",
        "Se tiene una DB con distintas caracteristicas de las casas en Boston y su valor correspondiente, se requiere generar un modelo predictivo sobre el valor de una casa."
      ]
    },
    {
      "cell_type": "markdown",
      "metadata": {
        "id": "0JM1vhh005Pt",
        "colab_type": "text"
      },
      "source": [
        "# Fase II. Data Understanding.\n",
        "## Estudio y comprensión de los datos\n",
        "\n",
        "La fase de entendimiento de datos comienza con la colección de datos inicial y continúa con las actividades que permiten familiarizarse con los datos, identificar los problemas de calidad, descubrir conocimiento preliminar sobre los datos, y/o descubrir subconjuntos interesantes para formar hipótesis en cuanto a la información oculta.\n",
        "\n",
        "El dataset boston tiene como targe el precio de los inmuebles"
      ]
    },
    {
      "cell_type": "code",
      "metadata": {
        "id": "lheACTynJ_4y",
        "colab_type": "code",
        "colab": {}
      },
      "source": [
        "import numpy as np\n",
        "import pandas as pd\n",
        "import matplotlib.pyplot as plt\n",
        "from scipy.spatial.distance import euclidean\n",
        "\n",
        "from sklearn.datasets import load_boston\n",
        "\n",
        "from sklearn.model_selection import cross_val_score\n",
        "from sklearn.linear_model import Lasso, ElasticNet, Ridge\n",
        "from sklearn.svm import SVR\n",
        "from sklearn.ensemble import GradientBoostingRegressor\n",
        "\n",
        "from sklearn.model_selection import train_test_split\n",
        "from sklearn.feature_selection import SelectKBest\n",
        "from sklearn.feature_selection import mutual_info_regression\n",
        "\n",
        "from sklearn.model_selection import validation_curve\n",
        "from sklearn.model_selection import cross_validate\n",
        "\n",
        "from sklearn.neural_network import MLPRegressor"
      ],
      "execution_count": 0,
      "outputs": []
    },
    {
      "cell_type": "code",
      "metadata": {
        "id": "7j9D9GbA1BCN",
        "colab_type": "code",
        "colab": {}
      },
      "source": [
        "\n",
        "boston = load_boston()"
      ],
      "execution_count": 0,
      "outputs": []
    },
    {
      "cell_type": "markdown",
      "metadata": {
        "id": "lwQsjXV0-Q9z",
        "colab_type": "text"
      },
      "source": [
        "Obtenemos los nombres de las features"
      ]
    },
    {
      "cell_type": "code",
      "metadata": {
        "id": "mexf9YYE-FdJ",
        "colab_type": "code",
        "outputId": "39b14d68-791e-4829-c2b1-52f476a9d63b",
        "colab": {
          "base_uri": "https://localhost:8080/",
          "height": 52
        }
      },
      "source": [
        "boston.feature_names"
      ],
      "execution_count": 3,
      "outputs": [
        {
          "output_type": "execute_result",
          "data": {
            "text/plain": [
              "array(['CRIM', 'ZN', 'INDUS', 'CHAS', 'NOX', 'RM', 'AGE', 'DIS', 'RAD',\n",
              "       'TAX', 'PTRATIO', 'B', 'LSTAT'], dtype='<U7')"
            ]
          },
          "metadata": {
            "tags": []
          },
          "execution_count": 3
        }
      ]
    },
    {
      "cell_type": "markdown",
      "metadata": {
        "id": "0oK7d2zx-Unn",
        "colab_type": "text"
      },
      "source": [
        "## Descripcion de features\n",
        "\n",
        "CRIM - tasa de criminalidad per cápita por ciudad<br>\n",
        "ZN - proporción de tierra residencial dividida en zonas para lotes de más de 25,000 pies cuadrados.<br>\n",
        "INDUS - proporción de acres de negocios no minoristas por ciudad.<br>\n",
        "CHAS - Variable ficticia de Charles River (1 si el tramo limita con el río; 0 en caso contrario)<br>\n",
        "NOX - concentración de óxidos nítricos (partes por 10 millones)<br>\n",
        "RM - número promedio de habitaciones por vivienda<br>\n",
        "AGE - proporción de unidades ocupadas por sus propietarios construidas antes de 1940<br>\n",
        "DIS - distancias ponderadas a cinco centros de empleo de Boston<br>\n",
        "RAD - índice de accesibilidad a carreteras radiales<br>\n",
        "TAX - tasa de impuesto a la propiedad de valor total por $ 10,000<br>\n",
        "PTRATIO - relación alumno-profesor por localidad<br>\n",
        "B - 1000(Bk - 0.63)^2 donde Bk es la proporción de negros por pueblo<br>\n",
        "LSTAT - % menor estado de la población<br>"
      ]
    },
    {
      "cell_type": "markdown",
      "metadata": {
        "id": "KRfmOpPBo39o",
        "colab_type": "text"
      },
      "source": [
        "# Fase III. Data Preparation\n",
        "## Análisis de los datos y selección de características\n",
        "\n",
        "La fase de preparación de datos cubre todas las actividades necesarias para construir el conjunto final de datos (los datos que se utilizarán en las herramientas de modelado) a partir de los datos en bruto iniciales. Las tareas incluyen la selección de tablas, registros y atributos, así como la transformación y la limpieza de datos para las herramientas que modelan."
      ]
    },
    {
      "cell_type": "code",
      "metadata": {
        "id": "LHsq70cE1fZh",
        "colab_type": "code",
        "colab": {}
      },
      "source": [
        "# Hasignamos nuestras features y nuestros objetivos\n",
        "X = pd.DataFrame(boston.data, columns= boston.feature_names)\n",
        "y = boston.target"
      ],
      "execution_count": 0,
      "outputs": []
    },
    {
      "cell_type": "markdown",
      "metadata": {
        "id": "dcYcRu22RGrw",
        "colab_type": "text"
      },
      "source": [
        "Revisar que no hallan valores en formatos que no corresponden con el tipo de dato, de lo contrario transformar"
      ]
    },
    {
      "cell_type": "code",
      "metadata": {
        "id": "OBGeGnEJQRPC",
        "colab_type": "code",
        "outputId": "3a25fb55-0433-47d0-83d7-2772894a4006",
        "colab": {
          "base_uri": "https://localhost:8080/",
          "height": 206
        }
      },
      "source": [
        "X.head()"
      ],
      "execution_count": 5,
      "outputs": [
        {
          "output_type": "execute_result",
          "data": {
            "text/html": [
              "<div>\n",
              "<style scoped>\n",
              "    .dataframe tbody tr th:only-of-type {\n",
              "        vertical-align: middle;\n",
              "    }\n",
              "\n",
              "    .dataframe tbody tr th {\n",
              "        vertical-align: top;\n",
              "    }\n",
              "\n",
              "    .dataframe thead th {\n",
              "        text-align: right;\n",
              "    }\n",
              "</style>\n",
              "<table border=\"1\" class=\"dataframe\">\n",
              "  <thead>\n",
              "    <tr style=\"text-align: right;\">\n",
              "      <th></th>\n",
              "      <th>CRIM</th>\n",
              "      <th>ZN</th>\n",
              "      <th>INDUS</th>\n",
              "      <th>CHAS</th>\n",
              "      <th>NOX</th>\n",
              "      <th>RM</th>\n",
              "      <th>AGE</th>\n",
              "      <th>DIS</th>\n",
              "      <th>RAD</th>\n",
              "      <th>TAX</th>\n",
              "      <th>PTRATIO</th>\n",
              "      <th>B</th>\n",
              "      <th>LSTAT</th>\n",
              "    </tr>\n",
              "  </thead>\n",
              "  <tbody>\n",
              "    <tr>\n",
              "      <th>0</th>\n",
              "      <td>0.00632</td>\n",
              "      <td>18.0</td>\n",
              "      <td>2.31</td>\n",
              "      <td>0.0</td>\n",
              "      <td>0.538</td>\n",
              "      <td>6.575</td>\n",
              "      <td>65.2</td>\n",
              "      <td>4.0900</td>\n",
              "      <td>1.0</td>\n",
              "      <td>296.0</td>\n",
              "      <td>15.3</td>\n",
              "      <td>396.90</td>\n",
              "      <td>4.98</td>\n",
              "    </tr>\n",
              "    <tr>\n",
              "      <th>1</th>\n",
              "      <td>0.02731</td>\n",
              "      <td>0.0</td>\n",
              "      <td>7.07</td>\n",
              "      <td>0.0</td>\n",
              "      <td>0.469</td>\n",
              "      <td>6.421</td>\n",
              "      <td>78.9</td>\n",
              "      <td>4.9671</td>\n",
              "      <td>2.0</td>\n",
              "      <td>242.0</td>\n",
              "      <td>17.8</td>\n",
              "      <td>396.90</td>\n",
              "      <td>9.14</td>\n",
              "    </tr>\n",
              "    <tr>\n",
              "      <th>2</th>\n",
              "      <td>0.02729</td>\n",
              "      <td>0.0</td>\n",
              "      <td>7.07</td>\n",
              "      <td>0.0</td>\n",
              "      <td>0.469</td>\n",
              "      <td>7.185</td>\n",
              "      <td>61.1</td>\n",
              "      <td>4.9671</td>\n",
              "      <td>2.0</td>\n",
              "      <td>242.0</td>\n",
              "      <td>17.8</td>\n",
              "      <td>392.83</td>\n",
              "      <td>4.03</td>\n",
              "    </tr>\n",
              "    <tr>\n",
              "      <th>3</th>\n",
              "      <td>0.03237</td>\n",
              "      <td>0.0</td>\n",
              "      <td>2.18</td>\n",
              "      <td>0.0</td>\n",
              "      <td>0.458</td>\n",
              "      <td>6.998</td>\n",
              "      <td>45.8</td>\n",
              "      <td>6.0622</td>\n",
              "      <td>3.0</td>\n",
              "      <td>222.0</td>\n",
              "      <td>18.7</td>\n",
              "      <td>394.63</td>\n",
              "      <td>2.94</td>\n",
              "    </tr>\n",
              "    <tr>\n",
              "      <th>4</th>\n",
              "      <td>0.06905</td>\n",
              "      <td>0.0</td>\n",
              "      <td>2.18</td>\n",
              "      <td>0.0</td>\n",
              "      <td>0.458</td>\n",
              "      <td>7.147</td>\n",
              "      <td>54.2</td>\n",
              "      <td>6.0622</td>\n",
              "      <td>3.0</td>\n",
              "      <td>222.0</td>\n",
              "      <td>18.7</td>\n",
              "      <td>396.90</td>\n",
              "      <td>5.33</td>\n",
              "    </tr>\n",
              "  </tbody>\n",
              "</table>\n",
              "</div>"
            ],
            "text/plain": [
              "      CRIM    ZN  INDUS  CHAS    NOX  ...  RAD    TAX  PTRATIO       B  LSTAT\n",
              "0  0.00632  18.0   2.31   0.0  0.538  ...  1.0  296.0     15.3  396.90   4.98\n",
              "1  0.02731   0.0   7.07   0.0  0.469  ...  2.0  242.0     17.8  396.90   9.14\n",
              "2  0.02729   0.0   7.07   0.0  0.469  ...  2.0  242.0     17.8  392.83   4.03\n",
              "3  0.03237   0.0   2.18   0.0  0.458  ...  3.0  222.0     18.7  394.63   2.94\n",
              "4  0.06905   0.0   2.18   0.0  0.458  ...  3.0  222.0     18.7  396.90   5.33\n",
              "\n",
              "[5 rows x 13 columns]"
            ]
          },
          "metadata": {
            "tags": []
          },
          "execution_count": 5
        }
      ]
    },
    {
      "cell_type": "code",
      "metadata": {
        "id": "asey6Fzc4OY4",
        "colab_type": "code",
        "outputId": "1a3dd11d-9f82-470a-ddaa-13b2caa3ec96",
        "colab": {
          "base_uri": "https://localhost:8080/",
          "height": 34
        }
      },
      "source": [
        "# Tamaño de los datos\n",
        "X.shape"
      ],
      "execution_count": 6,
      "outputs": [
        {
          "output_type": "execute_result",
          "data": {
            "text/plain": [
              "(506, 13)"
            ]
          },
          "metadata": {
            "tags": []
          },
          "execution_count": 6
        }
      ]
    },
    {
      "cell_type": "markdown",
      "metadata": {
        "id": "MizOuPiEpN_L",
        "colab_type": "text"
      },
      "source": [
        "# Fase IV. Modeling. \n",
        "## Modelado\n",
        "\n",
        "En esta fase, se seleccionan y aplican las técnicas de modelado que sean pertinentes al problema (cuantas más mejor), y se calibran sus parámetros a valores óptimos. Típicamente hay varias técnicas para el mismo tipo de problema de minería de datos. Algunas técnicas tienen requerimientos específicos sobre la forma de los datos. Por lo tanto, casi siempre en cualquier proyecto se acaba volviendo a la fase de preparación de datos."
      ]
    },
    {
      "cell_type": "markdown",
      "metadata": {
        "id": "U_a4skJk3aJA",
        "colab_type": "text"
      },
      "source": [
        "## Analisis de modelos\n",
        "### Este es un analisis de regresion, por lo tanto seleccionaremos un algoritmo de regresion, tenemos 506 datos segun la imagen de abajo nos serviria un algoritmo Lasso, ElasticNet, RidgeRegression, SVR o EnsembleRegressor\n",
        "\n",
        "![texto alternativo](https://scikit-learn.org/stable/_static/ml_map.png)"
      ]
    },
    {
      "cell_type": "markdown",
      "metadata": {
        "id": "-LaVTvEw9yWs",
        "colab_type": "text"
      },
      "source": [
        "## Probamos con validacion cruzada que algoritmo nos sirve mas de los anteriormente mencionados"
      ]
    },
    {
      "cell_type": "code",
      "metadata": {
        "id": "7eYycJR_-AGw",
        "colab_type": "code",
        "outputId": "97fa07ac-344c-457c-94c5-166264024898",
        "colab": {
          "base_uri": "https://localhost:8080/",
          "height": 211
        }
      },
      "source": [
        "scores = cross_val_score(Lasso(),X,y,cv=5,scoring='r2')\n",
        "lasso = scores.mean()\n",
        "\n",
        "scores = cross_val_score(ElasticNet(),X,y,cv=5,scoring='r2')\n",
        "elastic_net = scores.mean()\n",
        "\n",
        "scores = cross_val_score(Ridge(),X,y,cv=5,scoring='r2')\n",
        "ridge = scores.mean()\n",
        "\n",
        "scores = cross_val_score(SVR(kernel=\"linear\"),X,y,cv=5,scoring='r2')\n",
        "svr_linear = scores.mean()\n",
        "\n",
        "scores = cross_val_score(SVR(kernel=\"rbf\"),X,y,cv=5,scoring='r2')\n",
        "svr_rbf = scores.mean()\n",
        "\n",
        "scores = cross_val_score(GradientBoostingRegressor(),X,y,cv=5,scoring='r2')\n",
        "ensemble_regressor = scores.mean()"
      ],
      "execution_count": 7,
      "outputs": [
        {
          "output_type": "stream",
          "text": [
            "/usr/local/lib/python3.6/dist-packages/sklearn/svm/base.py:193: FutureWarning: The default value of gamma will change from 'auto' to 'scale' in version 0.22 to account better for unscaled features. Set gamma explicitly to 'auto' or 'scale' to avoid this warning.\n",
            "  \"avoid this warning.\", FutureWarning)\n",
            "/usr/local/lib/python3.6/dist-packages/sklearn/svm/base.py:193: FutureWarning: The default value of gamma will change from 'auto' to 'scale' in version 0.22 to account better for unscaled features. Set gamma explicitly to 'auto' or 'scale' to avoid this warning.\n",
            "  \"avoid this warning.\", FutureWarning)\n",
            "/usr/local/lib/python3.6/dist-packages/sklearn/svm/base.py:193: FutureWarning: The default value of gamma will change from 'auto' to 'scale' in version 0.22 to account better for unscaled features. Set gamma explicitly to 'auto' or 'scale' to avoid this warning.\n",
            "  \"avoid this warning.\", FutureWarning)\n",
            "/usr/local/lib/python3.6/dist-packages/sklearn/svm/base.py:193: FutureWarning: The default value of gamma will change from 'auto' to 'scale' in version 0.22 to account better for unscaled features. Set gamma explicitly to 'auto' or 'scale' to avoid this warning.\n",
            "  \"avoid this warning.\", FutureWarning)\n",
            "/usr/local/lib/python3.6/dist-packages/sklearn/svm/base.py:193: FutureWarning: The default value of gamma will change from 'auto' to 'scale' in version 0.22 to account better for unscaled features. Set gamma explicitly to 'auto' or 'scale' to avoid this warning.\n",
            "  \"avoid this warning.\", FutureWarning)\n"
          ],
          "name": "stderr"
        }
      ]
    },
    {
      "cell_type": "code",
      "metadata": {
        "id": "-kwwGA5lAVI1",
        "colab_type": "code",
        "outputId": "fd4c103f-b542-48f9-8945-cca42b3f3b44",
        "colab": {
          "base_uri": "https://localhost:8080/",
          "height": 121
        }
      },
      "source": [
        "print(\"Lasso: \\t\\t\\t\", lasso, \"\\nElasticNet: \\t\\t\", elastic_net, \"\\nRidge: \\t\\t\\t\", ridge, \"\\nSVR Linear: \\t\\t\",svr_linear, \"\\nSVR Rbf: \\t\\t\", svr_rbf, \"\\nEnsemble Regressor: \\t\", ensemble_regressor)"
      ],
      "execution_count": 8,
      "outputs": [
        {
          "output_type": "stream",
          "text": [
            "Lasso: \t\t\t 0.431848787926522 \n",
            "ElasticNet: \t\t 0.47265251919410584 \n",
            "Ridge: \t\t\t 0.38921758241024024 \n",
            "SVR Linear: \t\t 0.45891681504026727 \n",
            "SVR Rbf: \t\t -0.5631546927903749 \n",
            "Ensemble Regressor: \t 0.6802401556992252\n"
          ],
          "name": "stdout"
        }
      ]
    },
    {
      "cell_type": "markdown",
      "metadata": {
        "id": "lA9Wx4NG3WuL",
        "colab_type": "text"
      },
      "source": [
        "A simple vista se puede ver que un algorimo del tipo ensemble puede ser el mas adecuado."
      ]
    },
    {
      "cell_type": "markdown",
      "metadata": {
        "id": "_VErDXcup2CC",
        "colab_type": "text"
      },
      "source": [
        "# Fase V. Evaluation.\n",
        "## Evaluación (obtención de resultados)\n",
        "\n",
        "En esta etapa en el proyecto, se han construido uno o varios modelos que parecen alcanzar calidad suficiente desde la una perspectiva de análisis de datos.<br>\n",
        "Antes de proceder al despliegue final del modelo, es importante evaluarlo a fondo y revisar los pasos ejecutados para crearlo, comparar el modelo obtenido con los objetivos de negocio. Un objetivo clave es determinar si hay alguna cuestión importante de negocio que no haya sido considerada suficientemente. Al final de esta fase, se debería obtener una decisión sobre la aplicación de los resultados del proceso de análisis de datos."
      ]
    },
    {
      "cell_type": "code",
      "metadata": {
        "id": "5JjCIbQO31eY",
        "colab_type": "code",
        "outputId": "285ace11-839e-4b44-ed4f-e31c03f5fb96",
        "colab": {
          "base_uri": "https://localhost:8080/",
          "height": 173
        }
      },
      "source": [
        "# Dividimos en dos dataset, de entrenamiento y de test con train_test_split\n",
        "\n",
        "X_train, X_test, y_train, y_test = train_test_split(X,y, random_state=1)\n",
        "\n",
        "model = GradientBoostingRegressor()\n",
        "# Entrenamos\n",
        "model.fit(X_train, y_train)"
      ],
      "execution_count": 9,
      "outputs": [
        {
          "output_type": "execute_result",
          "data": {
            "text/plain": [
              "GradientBoostingRegressor(alpha=0.9, criterion='friedman_mse', init=None,\n",
              "                          learning_rate=0.1, loss='ls', max_depth=3,\n",
              "                          max_features=None, max_leaf_nodes=None,\n",
              "                          min_impurity_decrease=0.0, min_impurity_split=None,\n",
              "                          min_samples_leaf=1, min_samples_split=2,\n",
              "                          min_weight_fraction_leaf=0.0, n_estimators=100,\n",
              "                          n_iter_no_change=None, presort='auto',\n",
              "                          random_state=None, subsample=1.0, tol=0.0001,\n",
              "                          validation_fraction=0.1, verbose=0, warm_start=False)"
            ]
          },
          "metadata": {
            "tags": []
          },
          "execution_count": 9
        }
      ]
    },
    {
      "cell_type": "code",
      "metadata": {
        "id": "Gtpxys-Gk5mL",
        "colab_type": "code",
        "outputId": "e204f313-5a0b-4062-b565-dc43411a32e1",
        "colab": {
          "base_uri": "https://localhost:8080/",
          "height": 34
        }
      },
      "source": [
        "model.score(X_test, y_test)"
      ],
      "execution_count": 10,
      "outputs": [
        {
          "output_type": "execute_result",
          "data": {
            "text/plain": [
              "0.9208394556269246"
            ]
          },
          "metadata": {
            "tags": []
          },
          "execution_count": 10
        }
      ]
    },
    {
      "cell_type": "markdown",
      "metadata": {
        "id": "jn05LK3glN8B",
        "colab_type": "text"
      },
      "source": [
        "### Calculo de residuales\n",
        "Los residuales son la diferencia entre el valor real y el predicho, los valores ideales son los cercanos a 0, para eso hay que graficarlo, esto es un apoyo visual al uso de scoring.\n",
        "\n",
        "El valor ideal debe ser cercano a 0 y que el grupo de puntos no figure algun patron."
      ]
    },
    {
      "cell_type": "code",
      "metadata": {
        "id": "v6d9ibVAmLS1",
        "colab_type": "code",
        "colab": {}
      },
      "source": [
        "predicted = model.predict(X_test)\n",
        "residuals = y_test - predicted"
      ],
      "execution_count": 0,
      "outputs": []
    },
    {
      "cell_type": "code",
      "metadata": {
        "id": "mcqfuURelpon",
        "colab_type": "code",
        "outputId": "02e4f1ee-789d-43c6-f397-9ef83371b586",
        "colab": {
          "base_uri": "https://localhost:8080/",
          "height": 282
        }
      },
      "source": [
        "plt.scatter(y_test,residuals)"
      ],
      "execution_count": 12,
      "outputs": [
        {
          "output_type": "execute_result",
          "data": {
            "text/plain": [
              "<matplotlib.collections.PathCollection at 0x7f9b6fc6a400>"
            ]
          },
          "metadata": {
            "tags": []
          },
          "execution_count": 12
        },
        {
          "output_type": "display_data",
          "data": {
            "image/png": "[encoded data removed]",
            "text/plain": [
              "<Figure size 432x288 with 1 Axes>"
            ]
          },
          "metadata": {
            "tags": []
          }
        }
      ]
    },
    {
      "cell_type": "markdown",
      "metadata": {
        "id": "OkmmimTcl5ba",
        "colab_type": "text"
      },
      "source": [
        "Graficar el porcentaje de error"
      ]
    },
    {
      "cell_type": "code",
      "metadata": {
        "id": "Luhx5cz8lDvC",
        "colab_type": "code",
        "colab": {}
      },
      "source": [
        "abs_residuals = np.abs(residuals) / y_test"
      ],
      "execution_count": 0,
      "outputs": []
    },
    {
      "cell_type": "code",
      "metadata": {
        "id": "TIEMytgumdqp",
        "colab_type": "code",
        "outputId": "b4e1ef2a-e313-4694-eee7-39548485706a",
        "colab": {
          "base_uri": "https://localhost:8080/",
          "height": 282
        }
      },
      "source": [
        "plt.scatter(y_test,abs_residuals)"
      ],
      "execution_count": 14,
      "outputs": [
        {
          "output_type": "execute_result",
          "data": {
            "text/plain": [
              "<matplotlib.collections.PathCollection at 0x7f9b6cfaef28>"
            ]
          },
          "metadata": {
            "tags": []
          },
          "execution_count": 14
        },
        {
          "output_type": "display_data",
          "data": {
            "image/png": "[encoded data removed]",
            "text/plain": [
              "<Figure size 432x288 with 1 Axes>"
            ]
          },
          "metadata": {
            "tags": []
          }
        }
      ]
    },
    {
      "cell_type": "markdown",
      "metadata": {
        "id": "DOjCyF_JrnlW",
        "colab_type": "text"
      },
      "source": [
        "Pasamos los porcentajes a logaritmo para poder juntar mas los valores, al aplicar el logaritmo los numeros demaciado grandes se achica un poco y se vuelven mas manejables.\n",
        "\n",
        "Para este caso en especial no es necesario usar logarimo, pero se dejara en forma de ejemplo, ya con el grafico anterior tenemos una vista comoda de los datos."
      ]
    },
    {
      "cell_type": "code",
      "metadata": {
        "id": "gdvKH30dr8Wp",
        "colab_type": "code",
        "outputId": "c6949911-61b7-4344-ecf4-85c52169ae50",
        "colab": {
          "base_uri": "https://localhost:8080/",
          "height": 282
        }
      },
      "source": [
        "l_abs_residuals = np.log(abs_residuals)\n",
        "plt.scatter(y_test,l_abs_residuals)"
      ],
      "execution_count": 15,
      "outputs": [
        {
          "output_type": "execute_result",
          "data": {
            "text/plain": [
              "<matplotlib.collections.PathCollection at 0x7f9b6cf1b278>"
            ]
          },
          "metadata": {
            "tags": []
          },
          "execution_count": 15
        },
        {
          "output_type": "display_data",
          "data": {
            "image/png": "[encoded data removed]",
            "text/plain": [
              "<Figure size 432x288 with 1 Axes>"
            ]
          },
          "metadata": {
            "tags": []
          }
        }
      ]
    },
    {
      "cell_type": "markdown",
      "metadata": {
        "id": "99h7d1XfxjHE",
        "colab_type": "text"
      },
      "source": [
        "### Seleccion de columnas mas significativas"
      ]
    },
    {
      "cell_type": "code",
      "metadata": {
        "id": "m97bIpxS5F1g",
        "colab_type": "code",
        "outputId": "889a6c2d-06fe-475e-80a9-0df7bd8a8089",
        "colab": {
          "base_uri": "https://localhost:8080/",
          "height": 86
        }
      },
      "source": [
        "# Revisamos los pesos\n",
        "model.feature_importances_"
      ],
      "execution_count": 16,
      "outputs": [
        {
          "output_type": "execute_result",
          "data": {
            "text/plain": [
              "array([1.99312626e-02, 4.78626975e-05, 4.45457438e-03, 6.13771819e-04,\n",
              "       3.77888737e-02, 2.95643004e-01, 1.35518483e-02, 1.01574477e-01,\n",
              "       6.77010789e-03, 1.06256881e-02, 3.61314827e-02, 9.61083354e-03,\n",
              "       4.63256213e-01])"
            ]
          },
          "metadata": {
            "tags": []
          },
          "execution_count": 16
        }
      ]
    },
    {
      "cell_type": "code",
      "metadata": {
        "id": "8VDzRoFW5Y18",
        "colab_type": "code",
        "colab": {}
      },
      "source": [
        "# Opcional\n",
        "# Compactamos los valores calculandoles el logaritmo\n",
        "feature_importances = np.floor(np.log10(np.abs(model.feature_importances_)))"
      ],
      "execution_count": 0,
      "outputs": []
    },
    {
      "cell_type": "code",
      "metadata": {
        "id": "XSmEQdBn5vhu",
        "colab_type": "code",
        "outputId": "c5fea70c-241d-4231-a9b4-4a4847076f09",
        "colab": {
          "base_uri": "https://localhost:8080/",
          "height": 483
        }
      },
      "source": [
        "\n",
        "# Graficamos el el coef o feature_importances\n",
        "plt.rcParams[\"figure.figsize\"] = [12,8]\n",
        "plt.plot(model.feature_importances_)\n",
        "plt.xticks(np.arange(len(X.columns)),list(X.columns));"
      ],
      "execution_count": 18,
      "outputs": [
        {
          "output_type": "display_data",
          "data": {
            "image/png": "[encoded data removed]",
            "text/plain": [
              "<Figure size 864x576 with 1 Axes>"
            ]
          },
          "metadata": {
            "tags": []
          }
        }
      ]
    },
    {
      "cell_type": "markdown",
      "metadata": {
        "id": "OmmD-75q6km2",
        "colab_type": "text"
      },
      "source": [
        "### Aca podemos concluir que nos sirven:\n",
        "- CRIM\n",
        "- NOX\n",
        "- RM\n",
        "- AGE\n",
        "- DIS\n",
        "- RAD\n",
        "- TAX\n",
        "- PTRATIO\n",
        "- B\n",
        "- LSTAT"
      ]
    },
    {
      "cell_type": "markdown",
      "metadata": {
        "id": "1FOiYjjn6-JF",
        "colab_type": "text"
      },
      "source": [
        "### Ahora haremos la misma evaluacion pero con el algoritmo KBest"
      ]
    },
    {
      "cell_type": "code",
      "metadata": {
        "id": "UUhP71P56pTl",
        "colab_type": "code",
        "outputId": "38ea7a93-6334-4720-d5e8-06f5b6789e56",
        "colab": {
          "base_uri": "https://localhost:8080/",
          "height": 34
        }
      },
      "source": [
        "selector = SelectKBest(mutual_info_regression, k=4)\n",
        "selector.fit(X,y)"
      ],
      "execution_count": 19,
      "outputs": [
        {
          "output_type": "execute_result",
          "data": {
            "text/plain": [
              "SelectKBest(k=4, score_func=<function mutual_info_regression at 0x7f9b71d65510>)"
            ]
          },
          "metadata": {
            "tags": []
          },
          "execution_count": 19
        }
      ]
    },
    {
      "cell_type": "code",
      "metadata": {
        "id": "SD0NK5SR8HbO",
        "colab_type": "code",
        "outputId": "d051df32-7712-4728-d23e-addd4b06e1cd",
        "colab": {
          "base_uri": "https://localhost:8080/",
          "height": 483
        }
      },
      "source": [
        "scores = selector.scores_\n",
        "plt.rcParams[\"figure.figsize\"] = [12,8]\n",
        "plt.plot(scores)\n",
        "plt.xticks(np.arange(len(boston.feature_names)),list(boston.feature_names));"
      ],
      "execution_count": 20,
      "outputs": [
        {
          "output_type": "display_data",
          "data": {
            "image/png": "[encoded data removed]",
            "text/plain": [
              "<Figure size 864x576 with 1 Axes>"
            ]
          },
          "metadata": {
            "tags": []
          }
        }
      ]
    },
    {
      "cell_type": "markdown",
      "metadata": {
        "id": "WkgGdr_u7XYM",
        "colab_type": "text"
      },
      "source": [
        "Mantendremos la lista anterior de forma intacta\n",
        "\n",
        "Ahora eliminaremos las features restantes"
      ]
    },
    {
      "cell_type": "code",
      "metadata": {
        "id": "lBOuDbH5JdyT",
        "colab_type": "code",
        "colab": {}
      },
      "source": [
        "X_train = X_train[[\"CRIM\",\"NOX\", \"RM\",\"AGE\",\"DIS\",\"RAD\",\"TAX\",\"PTRATIO\",\"B\",\"LSTAT\"]]\n",
        "X_test = X_test[[\"CRIM\",\"NOX\", \"RM\", \"AGE\",\"DIS\",\"RAD\",\"TAX\",\"PTRATIO\",\"B\",\"LSTAT\"]]"
      ],
      "execution_count": 0,
      "outputs": []
    },
    {
      "cell_type": "markdown",
      "metadata": {
        "id": "HOl_Rqurk3QX",
        "colab_type": "text"
      },
      "source": [
        "## Comportamiento con distintos tamaños de Dataset\n",
        "\n",
        "Revisaremos como se comporta con grupos de datos mas pequeños hasta llegar al tamaño original graficandolo"
      ]
    },
    {
      "cell_type": "code",
      "metadata": {
        "id": "LJx3w_YCk7Ka",
        "colab_type": "code",
        "outputId": "ccda75f2-e5e0-4b54-9fec-ce0699ffbfa4",
        "colab": {
          "base_uri": "https://localhost:8080/",
          "height": 52
        }
      },
      "source": [
        "from sklearn.model_selection import learning_curve\n",
        "\n",
        "# Definimos 4 grupos con mayor cantidad de datos cada uno\n",
        "train_sizes = np.linspace(0.1, 1.0, 4)\n",
        "\n",
        "train_sizes, train_scores, test_scores = learning_curve(GradientBoostingRegressor(),\n",
        "                                                        X_train,\n",
        "                                                        y_train, \n",
        "                                                        train_sizes=train_sizes,\n",
        "                                                        n_jobs=4)"
      ],
      "execution_count": 22,
      "outputs": [
        {
          "output_type": "stream",
          "text": [
            "/usr/local/lib/python3.6/dist-packages/sklearn/model_selection/_split.py:1978: FutureWarning: The default value of cv will change from 3 to 5 in version 0.22. Specify it explicitly to silence this warning.\n",
            "  warnings.warn(CV_WARNING, FutureWarning)\n"
          ],
          "name": "stderr"
        }
      ]
    },
    {
      "cell_type": "code",
      "metadata": {
        "id": "FU0WUs-RmYMp",
        "colab_type": "code",
        "outputId": "980674fc-9ec0-4cbc-e607-5879bcfeac53",
        "colab": {
          "base_uri": "https://localhost:8080/",
          "height": 494
        }
      },
      "source": [
        "#Graficamos el comportamiento con distintos tamaños de dataset\n",
        "\n",
        "plt.plot(np.mean(train_scores,axis=1))\n",
        "plt.plot(np.mean(test_scores,axis=1))\n",
        "plt.xticks(np.arange(len(train_sizes)),train_sizes, rotation= 75);"
      ],
      "execution_count": 23,
      "outputs": [
        {
          "output_type": "display_data",
          "data": {
            "image/png": "[encoded data removed]",
            "text/plain": [
              "<Figure size 864x576 with 1 Axes>"
            ]
          },
          "metadata": {
            "tags": []
          }
        }
      ]
    },
    {
      "cell_type": "markdown",
      "metadata": {
        "id": "Q-8utyFJRMCh",
        "colab_type": "text"
      },
      "source": [
        "## Overfitting y Underfitting\n",
        "\n",
        "Las principales causas al obtener malos resultados en Machine Learning son el overfitting o el underfitting de los datos. Cuando entrenamos nuestro modelo intentamos «hacer encajar» -fit en inglés- los datos de entrada entre ellos y con la salida. Tal vez se pueda traducir overfitting como «sobreajuste» y underfitting  como «subajuste» y hacen referencia al fallo de nuestro modelo al generalizar -encajar- el conocimiento que pretendemos que adquieran.\n",
        "\n",
        "### Sobreajuste\n",
        "El modelo queda sobre entrenado o es muy complejo para responder solo a los datos de entrenamiento, lo cual causa que cuando se prueben datos nuevos no de las respuestas esperadas\n",
        "\n",
        "### Subajuste\n",
        "El modelo empleado es muy complejo o los datos son muy pocos, lo que hace que el modelo sea demaciado simple y no se adecue a todos los casos"
      ]
    },
    {
      "cell_type": "code",
      "metadata": {
        "id": "MvB8uWGxEW90",
        "colab_type": "code",
        "colab": {}
      },
      "source": [
        "results = cross_validate(Lasso(),X,y,return_train_score=True,cv=5)\n",
        "test_scores = results['test_score']\n",
        "train_scores = results['train_score']"
      ],
      "execution_count": 0,
      "outputs": []
    },
    {
      "cell_type": "code",
      "metadata": {
        "id": "tA4brWLrRaOQ",
        "colab_type": "code",
        "outputId": "3c999d43-abc8-47ef-b788-63a433d143b0",
        "colab": {
          "base_uri": "https://localhost:8080/",
          "height": 52
        }
      },
      "source": [
        "# Definimos un rango desde el 1 al 100 de 2 en 2 (pares)\n",
        "n = np.arange(1, 100, 2)\n",
        "\n",
        "# Creamos la curva de validacion para GradientBoostingRegressor, variando el hiperparametro n_estimators con los valores de n\n",
        "train_scores, test_scores = validation_curve(GradientBoostingRegressor(),\n",
        "                                            X,\n",
        "                                            y,\n",
        "                                            param_name='n_estimators',\n",
        "                                            param_range=n)"
      ],
      "execution_count": 25,
      "outputs": [
        {
          "output_type": "stream",
          "text": [
            "/usr/local/lib/python3.6/dist-packages/sklearn/model_selection/_split.py:1978: FutureWarning: The default value of cv will change from 3 to 5 in version 0.22. Specify it explicitly to silence this warning.\n",
            "  warnings.warn(CV_WARNING, FutureWarning)\n"
          ],
          "name": "stderr"
        }
      ]
    },
    {
      "cell_type": "code",
      "metadata": {
        "id": "qpigFyNB65uf",
        "colab_type": "code",
        "outputId": "c52755f6-9fa2-4d3e-fcc3-0a851be19bc7",
        "colab": {
          "base_uri": "https://localhost:8080/",
          "height": 483
        }
      },
      "source": [
        "# Graficamos la curva de entrenamiento y de test, Tiene que haber una minima varianza entre ambas para que no halla Overfitting ni Underfitting\n",
        "plt.plot(np.mean(train_scores,axis=1))\n",
        "plt.plot(np.mean(test_scores,axis=1))\n",
        "plt.xticks(np.arange(len(n)),n);"
      ],
      "execution_count": 26,
      "outputs": [
        {
          "output_type": "display_data",
          "data": {
            "image/png": "[encoded data removed]",
            "text/plain": [
              "<Figure size 864x576 with 1 Axes>"
            ]
          },
          "metadata": {
            "tags": []
          }
        }
      ]
    },
    {
      "cell_type": "code",
      "metadata": {
        "id": "VPgS01ogdDLo",
        "colab_type": "code",
        "outputId": "40a152b2-fc57-4b48-872c-247c4ddd7e3d",
        "colab": {
          "base_uri": "https://localhost:8080/",
          "height": 885
        }
      },
      "source": [
        "differences = np.mean(train_scores, axis=1)-np.mean(test_scores, axis=1)\n",
        "differences =  np.stack((n, differences), axis=-1)\n",
        "\n",
        "differences"
      ],
      "execution_count": 27,
      "outputs": [
        {
          "output_type": "execute_result",
          "data": {
            "text/plain": [
              "array([[ 1.        ,  0.69387766],\n",
              "       [ 3.        ,  0.64922518],\n",
              "       [ 5.        ,  0.60775605],\n",
              "       [ 7.        ,  0.57415521],\n",
              "       [ 9.        ,  0.54786   ],\n",
              "       [11.        ,  0.53374687],\n",
              "       [13.        ,  0.51595269],\n",
              "       [15.        ,  0.50413923],\n",
              "       [17.        ,  0.47163885],\n",
              "       [19.        ,  0.45350538],\n",
              "       [21.        ,  0.43722838],\n",
              "       [23.        ,  0.4193391 ],\n",
              "       [25.        ,  0.4101215 ],\n",
              "       [27.        ,  0.39991091],\n",
              "       [29.        ,  0.40203759],\n",
              "       [31.        ,  0.39829448],\n",
              "       [33.        ,  0.3932311 ],\n",
              "       [35.        ,  0.39247306],\n",
              "       [37.        ,  0.38916609],\n",
              "       [39.        ,  0.39413316],\n",
              "       [41.        ,  0.38774753],\n",
              "       [43.        ,  0.38500079],\n",
              "       [45.        ,  0.38975756],\n",
              "       [47.        ,  0.38468914],\n",
              "       [49.        ,  0.38601159],\n",
              "       [51.        ,  0.39267909],\n",
              "       [53.        ,  0.39479506],\n",
              "       [55.        ,  0.39093606],\n",
              "       [57.        ,  0.39121306],\n",
              "       [59.        ,  0.38662707],\n",
              "       [61.        ,  0.39604722],\n",
              "       [63.        ,  0.39407616],\n",
              "       [65.        ,  0.397808  ],\n",
              "       [67.        ,  0.38813112],\n",
              "       [69.        ,  0.39021681],\n",
              "       [71.        ,  0.39450603],\n",
              "       [73.        ,  0.39231024],\n",
              "       [75.        ,  0.39423753],\n",
              "       [77.        ,  0.39085463],\n",
              "       [79.        ,  0.39341025],\n",
              "       [81.        ,  0.39778324],\n",
              "       [83.        ,  0.39834426],\n",
              "       [85.        ,  0.39263795],\n",
              "       [87.        ,  0.39096769],\n",
              "       [89.        ,  0.40163333],\n",
              "       [91.        ,  0.39817785],\n",
              "       [93.        ,  0.3994978 ],\n",
              "       [95.        ,  0.39967436],\n",
              "       [97.        ,  0.40607753],\n",
              "       [99.        ,  0.41723844]])"
            ]
          },
          "metadata": {
            "tags": []
          },
          "execution_count": 27
        }
      ]
    },
    {
      "cell_type": "code",
      "metadata": {
        "id": "aqYSg4rurebA",
        "colab_type": "code",
        "outputId": "270d4502-33e3-45e2-99e0-3e609004d3f1",
        "colab": {
          "base_uri": "https://localhost:8080/",
          "height": 34
        }
      },
      "source": [
        "# Revisamos en que punto la distancia es mas corta entreentrenamiento y test\n",
        "differences[differences[:,1].argsort()][0]"
      ],
      "execution_count": 28,
      "outputs": [
        {
          "output_type": "execute_result",
          "data": {
            "text/plain": [
              "array([47.        ,  0.38468914])"
            ]
          },
          "metadata": {
            "tags": []
          },
          "execution_count": 28
        }
      ]
    },
    {
      "cell_type": "markdown",
      "metadata": {
        "id": "AXN4pczFLgj8",
        "colab_type": "text"
      },
      "source": [
        "Concluimos usar el hiper parametro n_estimators en 47 ya que es el punto en el cual estan mas cerca el train_score con el test_score dandonos"
      ]
    },
    {
      "cell_type": "code",
      "metadata": {
        "id": "JkmBNMs7La1C",
        "colab_type": "code",
        "outputId": "7ea3e94e-b9ac-4c26-e2c6-50796c376026",
        "colab": {
          "base_uri": "https://localhost:8080/",
          "height": 34
        }
      },
      "source": [
        "# Sin configurar el hiper el hiper parametro n_estimators\n",
        "model = GradientBoostingRegressor()\n",
        "model.fit(X_train, y_train)\n",
        "model.score(X_test, y_test)"
      ],
      "execution_count": 29,
      "outputs": [
        {
          "output_type": "execute_result",
          "data": {
            "text/plain": [
              "0.9194532556391495"
            ]
          },
          "metadata": {
            "tags": []
          },
          "execution_count": 29
        }
      ]
    },
    {
      "cell_type": "code",
      "metadata": {
        "id": "CirNv_YKLwM3",
        "colab_type": "code",
        "outputId": "68b67930-82f1-4586-b57d-6ee2f34d013c",
        "colab": {
          "base_uri": "https://localhost:8080/",
          "height": 34
        }
      },
      "source": [
        "# Con el hiper parametro n_estimators configurado \n",
        "model = GradientBoostingRegressor(n_estimators=47)\n",
        "model.fit(X_train, y_train)\n",
        "model.score(X_test, y_test)"
      ],
      "execution_count": 30,
      "outputs": [
        {
          "output_type": "execute_result",
          "data": {
            "text/plain": [
              "0.9120068112207881"
            ]
          },
          "metadata": {
            "tags": []
          },
          "execution_count": 30
        }
      ]
    },
    {
      "cell_type": "markdown",
      "metadata": {
        "id": "higsQIU2m9Ef",
        "colab_type": "text"
      },
      "source": [
        "## Optimizacion de hiperparámetros\n",
        "\n",
        "¿Qué son los hiperparámetros?\n",
        "\n",
        "Los hiperparámetros son parámetros ajustables que se eligen para entrenar un modelo y que rigen el propio proceso de entrenamiento. Por ejemplo, para entrenar una red neuronal profunda, debe decidir el número de capas ocultas en la red y la cantidad de nodos de cada capa antes de entrenar al modelo. Estos valores suelen permanecer constantes durante el proceso de entrenamiento."
      ]
    },
    {
      "cell_type": "code",
      "metadata": {
        "id": "r9g5bLISnAV2",
        "colab_type": "code",
        "colab": {}
      },
      "source": [
        "from sklearn.model_selection import GridSearchCV\n",
        "\n",
        "# Estos son todos los hiper parametros que seran probados al ejecutar el grid search\n",
        "param_grid = {\n",
        "    'learning_rate': np.logspace(-10, 2, 8), #10.0**-np.arange(1,7), # learning rate\n",
        "    'alpha': np.linspace(0.1, 0.9, 8),\n",
        "    'loss': ['ls', 'lad', 'huber', 'quantile'],\n",
        "    'max_depth': [6,4,6],\n",
        "    'min_samples_leaf':[3,5,9,17], \n",
        "    'max_features':[1.0,0.3,0.1]\n",
        "}"
      ],
      "execution_count": 0,
      "outputs": []
    },
    {
      "cell_type": "code",
      "metadata": {
        "id": "dTEUjXUAnEIp",
        "colab_type": "code",
        "colab": {}
      },
      "source": [
        "import warnings\n",
        "warnings.filterwarnings('ignore')\n",
        "\n",
        "clf_grid = GridSearchCV(GradientBoostingRegressor(), param_grid)\n",
        "clf_grid.fit(X_train, y_train)\n",
        "\n",
        "warnings.filterwarnings('default')"
      ],
      "execution_count": 0,
      "outputs": []
    },
    {
      "cell_type": "code",
      "metadata": {
        "id": "A-q4V7dHnK19",
        "colab_type": "code",
        "outputId": "8fd0d07e-78f5-4b90-87d8-5d999a8dfc79",
        "colab": {
          "base_uri": "https://localhost:8080/",
          "height": 52
        }
      },
      "source": [
        "print(clf_grid.best_score_)\n",
        "\n",
        "clf_best = clf_grid.best_estimator_\n",
        "\n",
        "clf_best.score(X_test, y_test)"
      ],
      "execution_count": 37,
      "outputs": [
        {
          "output_type": "stream",
          "text": [
            "0.8686777445266801\n"
          ],
          "name": "stdout"
        },
        {
          "output_type": "execute_result",
          "data": {
            "text/plain": [
              "0.9099935710637569"
            ]
          },
          "metadata": {
            "tags": []
          },
          "execution_count": 37
        }
      ]
    },
    {
      "cell_type": "code",
      "metadata": {
        "id": "-vBGk0hROw0g",
        "colab_type": "code",
        "outputId": "9b12717c-7468-4ef5-c1e1-e556ffb90f60",
        "colab": {
          "base_uri": "https://localhost:8080/",
          "height": 191
        }
      },
      "source": [
        "model = clf_best\n",
        "model"
      ],
      "execution_count": 38,
      "outputs": [
        {
          "output_type": "execute_result",
          "data": {
            "text/plain": [
              "GradientBoostingRegressor(alpha=0.3285714285714286, criterion='friedman_mse',\n",
              "                          init=None, learning_rate=0.03727593720314938,\n",
              "                          loss='ls', max_depth=6, max_features=0.3,\n",
              "                          max_leaf_nodes=None, min_impurity_decrease=0.0,\n",
              "                          min_impurity_split=None, min_samples_leaf=3,\n",
              "                          min_samples_split=2, min_weight_fraction_leaf=0.0,\n",
              "                          n_estimators=100, n_iter_no_change=None,\n",
              "                          presort='auto', random_state=None, subsample=1.0,\n",
              "                          tol=0.0001, validation_fraction=0.1, verbose=0,\n",
              "                          warm_start=False)"
            ]
          },
          "metadata": {
            "tags": []
          },
          "execution_count": 38
        }
      ]
    },
    {
      "cell_type": "markdown",
      "metadata": {
        "id": "yMZHPC5InYzt",
        "colab_type": "text"
      },
      "source": [
        "### Revisar nuevamente los residuales"
      ]
    },
    {
      "cell_type": "code",
      "metadata": {
        "id": "Ol88HcmfnOGo",
        "colab_type": "code",
        "colab": {}
      },
      "source": [
        "predicted = model.predict(X_test)\n",
        "residuals = y_test - predicted"
      ],
      "execution_count": 0,
      "outputs": []
    },
    {
      "cell_type": "code",
      "metadata": {
        "id": "aZHbABtRneZS",
        "colab_type": "code",
        "outputId": "f37343a7-3382-4932-a934-a9d3a677c2d9",
        "colab": {
          "base_uri": "https://localhost:8080/",
          "height": 500
        }
      },
      "source": [
        "plt.scatter(y_test,residuals)"
      ],
      "execution_count": 40,
      "outputs": [
        {
          "output_type": "execute_result",
          "data": {
            "text/plain": [
              "<matplotlib.collections.PathCollection at 0x7f9b6ce8b438>"
            ]
          },
          "metadata": {
            "tags": []
          },
          "execution_count": 40
        },
        {
          "output_type": "display_data",
          "data": {
            "image/png": "[encoded data removed]",
            "text/plain": [
              "<Figure size 864x576 with 1 Axes>"
            ]
          },
          "metadata": {
            "tags": []
          }
        }
      ]
    },
    {
      "cell_type": "markdown",
      "metadata": {
        "colab_type": "text",
        "id": "rUS4WwkjBZ7e"
      },
      "source": [
        "Pasamos al porcentaje de los residuales absolutos"
      ]
    },
    {
      "cell_type": "code",
      "metadata": {
        "id": "JxR4LjIInfr5",
        "colab_type": "code",
        "colab": {}
      },
      "source": [
        "abs_residuals = np.abs(residuals) / y_test"
      ],
      "execution_count": 0,
      "outputs": []
    },
    {
      "cell_type": "code",
      "metadata": {
        "id": "4yjD0tHRnhAr",
        "colab_type": "code",
        "outputId": "f1da784c-1e9a-4b0e-ba5f-e59008736fd6",
        "colab": {
          "base_uri": "https://localhost:8080/",
          "height": 500
        }
      },
      "source": [
        "plt.scatter(y_test,abs_residuals)"
      ],
      "execution_count": 42,
      "outputs": [
        {
          "output_type": "execute_result",
          "data": {
            "text/plain": [
              "<matplotlib.collections.PathCollection at 0x7f9b6cca00f0>"
            ]
          },
          "metadata": {
            "tags": []
          },
          "execution_count": 42
        },
        {
          "output_type": "display_data",
          "data": {
            "image/png": "[encoded data removed]",
            "text/plain": [
              "<Figure size 864x576 with 1 Axes>"
            ]
          },
          "metadata": {
            "tags": []
          }
        }
      ]
    },
    {
      "cell_type": "markdown",
      "metadata": {
        "id": "u1jP_5RLyciT",
        "colab_type": "text"
      },
      "source": [
        "Aaplicar la funcion logaritmica para obtener valores mas compactos"
      ]
    },
    {
      "cell_type": "code",
      "metadata": {
        "id": "mRyUmj5iszJM",
        "colab_type": "code",
        "outputId": "2beefe70-ac69-468f-a195-db214dadd381",
        "colab": {
          "base_uri": "https://localhost:8080/",
          "height": 500
        }
      },
      "source": [
        "l_abs_residuals = np.log(abs_residuals)\n",
        "plt.scatter(y_test,l_abs_residuals)\n"
      ],
      "execution_count": 43,
      "outputs": [
        {
          "output_type": "execute_result",
          "data": {
            "text/plain": [
              "<matplotlib.collections.PathCollection at 0x7f9b6cc54860>"
            ]
          },
          "metadata": {
            "tags": []
          },
          "execution_count": 43
        },
        {
          "output_type": "display_data",
          "data": {
            "image/png": "[encoded data removed]",
            "text/plain": [
              "<Figure size 864x576 with 1 Axes>"
            ]
          },
          "metadata": {
            "tags": []
          }
        }
      ]
    },
    {
      "cell_type": "markdown",
      "metadata": {
        "id": "JXlj2Hzbqic8",
        "colab_type": "text"
      },
      "source": [
        "# Fase VI. Deployment.\n",
        "## Despliegue (puesta en producción)\n",
        "\n",
        "Aca puede ser desde un informe hasta puesta en marcha de un webservice para realizar predicciones.\n",
        "\n",
        "Para el ultimo caso se puede utilizar joblib y llevar nuestro modelo entrenado a archivo el cual podemos hacer dump"
      ]
    },
    {
      "cell_type": "code",
      "metadata": {
        "id": "bw5KYx7arE_a",
        "colab_type": "code",
        "colab": {
          "base_uri": "https://localhost:8080/",
          "height": 106
        },
        "outputId": "a69121fa-0c5c-4179-bffe-c67daaec1ed5"
      },
      "source": [
        "from sklearn.externals import joblib\n",
        "joblib.dump(model, 'model.joblib')\n",
        "\n",
        "from google.colab import files\n",
        "files.download('./model.joblib') "
      ],
      "execution_count": 44,
      "outputs": [
        {
          "output_type": "stream",
          "text": [
            "/usr/local/lib/python3.6/dist-packages/sklearn/externals/joblib/__init__.py:15: DeprecationWarning: sklearn.externals.joblib is deprecated in 0.21 and will be removed in 0.23. Please import this functionality directly from joblib, which can be installed with: pip install joblib. If this warning is raised when loading pickled models, you may need to re-serialize those models with scikit-learn 0.21+.\n",
            "  warnings.warn(msg, category=DeprecationWarning)\n",
            "/usr/lib/python3.6/threading.py:864: ResourceWarning: unclosed <socket.socket fd=55, family=AddressFamily.AF_INET6, type=SocketKind.SOCK_STREAM, proto=0, laddr=('::', 17582, 0, 0)>\n",
            "  self._target(*self._args, **self._kwargs)\n"
          ],
          "name": "stderr"
        }
      ]
    },
    {
      "cell_type": "markdown",
      "metadata": {
        "id": "pUuCSseorOMX",
        "colab_type": "text"
      },
      "source": [
        "Y luego importarlo en un proyecto en Flask cargando nuestro archivo de modelo"
      ]
    },
    {
      "cell_type": "code",
      "metadata": {
        "id": "VNtSZplMrTza",
        "colab_type": "code",
        "colab": {}
      },
      "source": [
        "model = joblib.load('model.joblib')"
      ],
      "execution_count": 0,
      "outputs": []
    }
  ]
}